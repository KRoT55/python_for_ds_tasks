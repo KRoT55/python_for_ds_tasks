{
  "nbformat": 4,
  "nbformat_minor": 0,
  "metadata": {
    "colab": {
      "provenance": [],
      "include_colab_link": true
    },
    "kernelspec": {
      "name": "python3",
      "display_name": "Python 3"
    },
    "language_info": {
      "name": "python"
    }
  },
  "cells": [
    {
      "cell_type": "markdown",
      "metadata": {
        "id": "view-in-github",
        "colab_type": "text"
      },
      "source": [
        "<a href=\"https://colab.research.google.com/github/KRoT55/python_for_ds_tasks/blob/main/HW_1_1_%D0%9E%D1%81%D0%BD%D0%BE%D0%B2%D0%B8_%D1%81%D1%82%D0%B0%D1%82%D0%B8%D1%81%D1%82%D0%B8%D0%BA%D0%B8.ipynb\" target=\"_parent\"><img src=\"https://colab.research.google.com/assets/colab-badge.svg\" alt=\"Open In Colab\"/></a>"
      ]
    },
    {
      "cell_type": "markdown",
      "source": [
        "В цьому домашньому завданні відпрацюємо з вами знання, отримані в модулі зі статистики.\n",
        "\n",
        "**Завдання 1.** Ми обговорили з Вами на лекції, що велика літера Сігма грецького алфавіту позначає в математиці суму. Знайдіть з використанням Python $\\Sigma x$, $\\Sigma x^2$, та $\\Sigma (x-1)^2$ для наступного набору даних:\n",
        "`1 3 4`\n",
        "Виведіть результат кожного обчислення на екран."
      ],
      "metadata": {
        "id": "SDhaTqxcWhnP"
      }
    },
    {
      "cell_type": "code",
      "source": [
        "data = [1, 3, 4]\n",
        "\n",
        "sum_x = sum(data)\n",
        "sum_x2 = sum(x**2 for x in data)\n",
        "sum_x_minus_1_squared = sum((x-1)**2 for x in data)\n",
        "\n",
        "print(\"Σx:\", sum_x)\n",
        "print(\"Σx²:\", sum_x2)\n",
        "print(\"Σ(x−1)²:\", sum_x_minus_1_squared)"
      ],
      "metadata": {
        "id": "B1mgx_IBT0e8",
        "outputId": "0d149cac-a8d2-416f-f566-f2abac6be19a",
        "colab": {
          "base_uri": "https://localhost:8080/"
        }
      },
      "execution_count": 4,
      "outputs": [
        {
          "output_type": "stream",
          "name": "stdout",
          "text": [
            "Σx: 8\n",
            "Σx²: 26\n",
            "Σ(x−1)²: 13\n"
          ]
        }
      ]
    },
    {
      "cell_type": "markdown",
      "source": [
        "**Завдання 2.** Ми зібрали дані про суму покупок в гривнях 20ма випадково обраними клієнтами в нашому магазині (всього клієнтів у нас більше) за минулий місяць. Вони представлені в змінній `sum_purchases`. Знайдіть **вибіркове середнє** для цих даних кожним з зазначених методів:   \n",
        "\n",
        "  2.1. без використання жодних бібліотек, користуючись тільки Python.  \n",
        "  2.2. використовуючи відповідний метод бібліотеки `numpy`.\n",
        "\n",
        "  Виведіть результат обчислень в кожному з випадків на екран та порівняйте результати. Вони співпадають?"
      ],
      "metadata": {
        "id": "fa78aW5lhiia"
      }
    },
    {
      "cell_type": "code",
      "execution_count": 6,
      "metadata": {
        "id": "_9kMt3rq6V5m",
        "outputId": "7de0ce88-bb94-499c-ea16-6d1f87eb8305",
        "colab": {
          "base_uri": "https://localhost:8080/"
        }
      },
      "outputs": [
        {
          "output_type": "stream",
          "name": "stdout",
          "text": [
            "Вибіркове середнє без бібліотек: 667.95\n"
          ]
        }
      ],
      "source": [
        "sum_purchases = [ 316,  493,  367,  153,  224,  121,  322,  450,  196,  397,  281,\n",
        "  239,  484,  124,  223,  448,  432,  255, 4310, 3524]\n",
        "\n",
        "mean_no_lib = sum(sum_purchases) / len(sum_purchases)\n",
        "print(\"Вибіркове середнє без бібліотек:\", mean_no_lib)"
      ]
    },
    {
      "cell_type": "code",
      "source": [
        "import numpy as np\n",
        "\n",
        "sum_purchases = [ 316,  493,  367,  153,  224,  121,  322,  450,  196,  397,  281,\n",
        "  239,  484,  124,  223,  448,  432,  255, 4310, 3524]\n",
        "\n",
        "mean_with_lib = np.mean(sum_purchases)\n",
        "print(\"Вибіркове середнє з numpy:\", mean_with_lib)"
      ],
      "metadata": {
        "id": "wPmL919HT1c0",
        "outputId": "a1af3ff8-73af-4a3f-8d69-8a7ec667f515",
        "colab": {
          "base_uri": "https://localhost:8080/"
        }
      },
      "execution_count": 7,
      "outputs": [
        {
          "output_type": "stream",
          "name": "stdout",
          "text": [
            "Вибіркове середнє з numpy: 667.95\n"
          ]
        }
      ]
    },
    {
      "cell_type": "markdown",
      "source": [
        "**Завдання 3.** Для того ж набору даних в змінній `sum_purchases` обчисліть **медіану** кожним з зазначених методів:  \n",
        "\n",
        "  3.1. без використання жодних бібліотек, користуючись тільки Python.  \n",
        "  3.2. використовуючи відповідний метод бібліотеки numpy.  \n",
        "\n",
        "Виведіть результат обчислень в кожному з випадків на екран. Порівняйте результати зі значенням вибіркового середнього. Напишіть коментар, для яких задач ви б використовували вибіркове середнє, а для яких - медіану?"
      ],
      "metadata": {
        "id": "FMdoxZd0kZdW"
      }
    },
    {
      "cell_type": "code",
      "source": [
        "sum_purchases = [ 316,  493,  367,  153,  224,  121,  322,  450,  196,  397,  281,\n",
        "  239,  484,  124,  223,  448,  432,  255, 4310, 3524]\n",
        "\n",
        "# 3.1. Медіана без бібліотек\n",
        "sorted_data = sorted(sum_purchases)\n",
        "n = len(sorted_data)\n",
        "\n",
        "if n % 2 != 0:\n",
        "    median = sorted_data[n // 2]\n",
        "else:\n",
        "    median = (sorted_data[n // 2 - 1] + sorted_data[n // 2]) / 2\n",
        "\n",
        "print(\"Медіана без бібліотек:\", median)\n",
        "\n",
        "# 3.2. Медіана з бібліотекою numpy\n",
        "median_with_lib = np.median(sum_purchases)\n",
        "print(\"Медіана з numpy:\", median_with_lib)"
      ],
      "metadata": {
        "id": "x58BumvuT2nl",
        "outputId": "173f1c0c-406b-4af8-c1a3-f0c51e30346b",
        "colab": {
          "base_uri": "https://localhost:8080/"
        }
      },
      "execution_count": 8,
      "outputs": [
        {
          "output_type": "stream",
          "name": "stdout",
          "text": [
            "Медіана без бібліотек: 319.0\n",
            "Медіана з numpy: 319.0\n"
          ]
        }
      ]
    },
    {
      "cell_type": "markdown",
      "source": [
        "**Завдання 4**. Обчислість стандартне відхилення наведеної вибірки в змінній `sum_purchases` кожним з зазначених методів:  \n",
        "\n",
        "  4.1. без використання жодних бібліотек, користуючись тільки Python.  \n",
        "  4.2. використовуючи відповідний метод бібліотеки numpy.  \n",
        "\n",
        "Виведіть результат обчислень в кожному з випадків на екран."
      ],
      "metadata": {
        "id": "o1Z7az2yNDQV"
      }
    },
    {
      "cell_type": "code",
      "source": [
        "# 4.1. Стандартне відхилення без бібліотек\n",
        "mean_val = sum(sum_purchases) / len(sum_purchases)\n",
        "std_dev_no_lib = (sum((x - mean_val) ** 2 for x in sum_purchases) / (len(sum_purchases) - 1)) ** 0.5\n",
        "print(\"Стандартне відхилення без бібліотек:\", std_dev_no_lib)\n",
        "\n",
        "# 4.2. Стандартне відхилення з бібліотекою numpy\n",
        "std_dev_with_lib = np.std(sum_purchases, ddof=1)\n",
        "print(\"Стандартне відхилення з numpy:\", std_dev_with_lib)"
      ],
      "metadata": {
        "id": "X4ixtmL2T642",
        "outputId": "4506e5f0-138f-4eef-dbf7-7e31dfa29012",
        "colab": {
          "base_uri": "https://localhost:8080/"
        }
      },
      "execution_count": 9,
      "outputs": [
        {
          "output_type": "stream",
          "name": "stdout",
          "text": [
            "Стандартне відхилення без бібліотек: 1124.5433447451132\n",
            "Стандартне відхилення з numpy: 1124.5433447451132\n"
          ]
        }
      ]
    },
    {
      "cell_type": "markdown",
      "source": [
        "**Завдання 5**. Ми провели дослідження віку студентів-першокурсників. Виявилось, що\n",
        "- 10 студентів мають вік 16 років\n",
        "- 25 студентів - 17 років\n",
        "- 20 студентів - 18 років\n",
        "- 2 студенти - 20 років\n",
        "\n",
        "Обчислість середнє значення для цієї вибірки будь-яким способом - на чистому Python або з numpy - та виведіть результат на екран."
      ],
      "metadata": {
        "id": "M1ntKTjXLVlH"
      }
    },
    {
      "cell_type": "code",
      "source": [
        "ages = [16] * 10 + [17] * 25 + [18] * 20 + [20] * 2\n",
        "mean_age = sum(ages) / len(ages)\n",
        "print(\"Середній вік студентів:\", mean_age)\n"
      ],
      "metadata": {
        "id": "RdIU4M-7T8R4",
        "outputId": "d3dddcd5-d7f6-4d90-aa87-7c8bc4f78b97",
        "colab": {
          "base_uri": "https://localhost:8080/"
        }
      },
      "execution_count": 10,
      "outputs": [
        {
          "output_type": "stream",
          "name": "stdout",
          "text": [
            "Середній вік студентів: 17.280701754385966\n"
          ]
        }
      ]
    },
    {
      "cell_type": "markdown",
      "source": [
        "**Завдання 6**. Крім даних про суму покупок, ми зібрали ще дані про кількість відвідувань кожного з кожного покупця, які знаходяться в змінній `visits`. Обчисліть коефіцієнт кореляції Пірсона для суми покупок і кількості відвідувань кожним з зазначених методів:  \n",
        "\n",
        "  6.1. без використання жодних бібліотек, користуючись тільки Python.  \n",
        "  6.2. використовуючи відповідний метод бібліотеки numpy.  \n",
        "  \n",
        "Виведіть результат на екран. Проаналізуйте результат.\n",
        "\n",
        "Виведіть додатково графік розсіювання викликавши код нижче і зробіть заключення, чи варто щось змінити при підрахунку кореляції, аби коефіцієнт Пірсона показував коректну оцінку лінійної залежності?"
      ],
      "metadata": {
        "id": "Xx8MFkkVM53z"
      }
    },
    {
      "cell_type": "code",
      "source": [
        "visits = [ 6,  2, 10,  3,  9,  9,  2,  3,  6,  6, 10,  2,  5, 10,  3,  5,  4,\n",
        "        7,  4,  2]\n",
        "\n",
        "mean_purchases = sum(sum_purchases) / len(sum_purchases)\n",
        "mean_visits = sum(visits) / len(visits)\n",
        "covariance = sum((x - mean_purchases) * (y - mean_visits) for x, y in zip(sum_purchases, visits)) / (len(sum_purchases) - 1)\n",
        "std_purchases = (sum((x - mean_purchases) ** 2 for x in sum_purchases) / (len(sum_purchases) - 1)) ** 0.5\n",
        "std_visits = (sum((y - mean_visits) ** 2 for y in visits) / (len(visits) - 1)) ** 0.5\n",
        "correlation_no_lib = covariance / (std_purchases * std_visits)\n",
        "print(\"Коефіцієнт кореляції без бібліотек:\", correlation_no_lib)"
      ],
      "metadata": {
        "id": "4OIGBT7UOWhO",
        "outputId": "3347686f-927d-4044-ac86-be78bcb7f645",
        "colab": {
          "base_uri": "https://localhost:8080/"
        }
      },
      "execution_count": 11,
      "outputs": [
        {
          "output_type": "stream",
          "name": "stdout",
          "text": [
            "Коефіцієнт кореляції без бібліотек: -0.3026584468766646\n"
          ]
        }
      ]
    },
    {
      "cell_type": "code",
      "source": [
        "correlation_with_lib = np.corrcoef(sum_purchases, visits)[0, 1]\n",
        "print(\"Коефіцієнт кореляції з numpy:\", correlation_with_lib)"
      ],
      "metadata": {
        "id": "YLNF7VbeT97Q",
        "outputId": "a90e96e8-3c65-4e08-fb70-523cf813eb91",
        "colab": {
          "base_uri": "https://localhost:8080/"
        }
      },
      "execution_count": 12,
      "outputs": [
        {
          "output_type": "stream",
          "name": "stdout",
          "text": [
            "Коефіцієнт кореляції з numpy: -0.3026584468766646\n"
          ]
        }
      ]
    },
    {
      "cell_type": "code",
      "source": [
        "import matplotlib.pyplot as plt\n",
        "\n",
        "plt.scatter(sum_purchases, visits)\n",
        "plt.title('Scatter Plot of Purchases vs. Visits')\n",
        "plt.xlabel('Sum of Purchases')\n",
        "plt.ylabel('Number of Visits');"
      ],
      "metadata": {
        "colab": {
          "base_uri": "https://localhost:8080/",
          "height": 472
        },
        "id": "gaeoGA-5Prr1",
        "outputId": "64f348b0-6207-47af-ab45-bfcf3e6e8019"
      },
      "execution_count": 13,
      "outputs": [
        {
          "output_type": "display_data",
          "data": {
            "text/plain": [
              "<Figure size 640x480 with 1 Axes>"
            ],
            "image/png": "[encoded data removed]"
          },
          "metadata": {}
        }
      ]
    },
    {
      "cell_type": "markdown",
      "source": [
        "**Завдання 7**. В попередньому завданні ми помітили, що викиди нам заважають отримати \"правдиве\" значення кореляції. Давайте вилучимо записи, які відповідають значенням з викидами в сумі покупок і обчисліть коеф. кореляції. Для цього поставте `threshold`, який дорінює середньому значенню + 2 стандартних вдіхилля суми покупок і всі значення, які більше за нього, будемо вважати викидами (є і інші правила для визначення викидів - з ним и познайомимось пізніше).\n",
        "\n",
        "Вилучіть значення з обох масивів і обчисліть коеф. кореляції Пірсона з допомогою `numpy` для кількості візитів і суми покупок без записів-викидів. Виведіть результат на екран, побудуйте діаграму розсіювання і проаналізуйте результат: що можемо сказати про залежність в даних?"
      ],
      "metadata": {
        "id": "4pEg0KzSQ6KA"
      }
    },
    {
      "cell_type": "code",
      "source": [
        "mean_val = np.mean(sum_purchases)\n",
        "std_dev_val = np.std(sum_purchases, ddof=1)\n",
        "\n",
        "threshold = mean_val + 2 * std_dev_val\n",
        "\n",
        "filtered_purchases = [x for x in sum_purchases if x <= threshold]\n",
        "filtered_visits = [y for x, y in zip(sum_purchases, visits) if x <= threshold]\n",
        "\n",
        "correlation_filtered = np.corrcoef(filtered_purchases, filtered_visits)[0, 1]\n",
        "print(\"Коефіцієнт кореляції після вилучення викидів:\", correlation_filtered)\n",
        "\n",
        "plt.scatter(filtered_purchases, filtered_visits)\n",
        "plt.title('Scatter Plot of Purchases vs. Visits (No Outliers)')\n",
        "plt.xlabel('Sum of Purchases')\n",
        "plt.ylabel('Number of Visits')\n",
        "plt.show()\n"
      ],
      "metadata": {
        "id": "Yj3Yfaf7UBbc",
        "outputId": "ffb6b843-59d9-488b-a7e2-a1e1de359fa4",
        "colab": {
          "base_uri": "https://localhost:8080/",
          "height": 489
        }
      },
      "execution_count": 14,
      "outputs": [
        {
          "output_type": "stream",
          "name": "stdout",
          "text": [
            "Коефіцієнт кореляції після вилучення викидів: -0.3685212078127798\n"
          ]
        },
        {
          "output_type": "display_data",
          "data": {
            "text/plain": [
              "<Figure size 640x480 with 1 Axes>"
            ],
            "image/png": "[encoded data removed]"
          },
          "metadata": {}
        }
      ]
    }
  ]
}